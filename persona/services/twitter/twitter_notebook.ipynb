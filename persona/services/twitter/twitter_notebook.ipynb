{
 "cells": [
  {
   "cell_type": "code",
   "execution_count": 21,
   "metadata": {},
   "outputs": [],
   "source": [
    "import oauth2 as oauth\n",
    "import sys\n",
    "sys.path.insert(1, \"../../..\")\n",
    "from app import load_config\n",
    "import json\n",
    "from urllib import parse\n",
    "import webbrowser"
   ]
  },
  {
   "cell_type": "code",
   "execution_count": 22,
   "metadata": {},
   "outputs": [],
   "source": [
    "api_key = \"dXQUrfBR8juh1iUyoMcgkiqqB\"\n",
    "api_secret_key = \"TQiZ8N9navBdcaSBmiJ9GSCVZNbgqaHwxRSU5wl7NdAMucQ4Mt\"\n",
    "redirect_url = \"http://127.0.0.1:5000/auth/twitter/redirect/\""
   ]
  },
  {
   "cell_type": "code",
   "execution_count": 23,
   "metadata": {},
   "outputs": [],
   "source": [
    "consumer = oauth.Consumer(api_key, api_secret_key)\n",
    "client = oauth.Client(consumer)"
   ]
  },
  {
   "cell_type": "code",
   "execution_count": 24,
   "metadata": {},
   "outputs": [],
   "source": [
    "resp, content = client.request(\"https://api.twitter.com/oauth/request_token\",\"POST\",body=parse.urlencode({\"oauth_callback\":redirect_url}))"
   ]
  },
  {
   "cell_type": "code",
   "execution_count": 25,
   "metadata": {},
   "outputs": [],
   "source": [
    "content = dict(parse.parse_qsl(content.decode(\"utf-8\")))\n",
    "oauth_token = content[\"oauth_token\"]\n",
    "oauth_token_secret = content[\"oauth_token_secret\"]"
   ]
  },
  {
   "cell_type": "code",
   "execution_count": 26,
   "metadata": {},
   "outputs": [
    {
     "data": {
      "text/plain": [
       "True"
      ]
     },
     "execution_count": 26,
     "metadata": {},
     "output_type": "execute_result"
    }
   ],
   "source": [
    "webbrowser.open(f\"https://api.twitter.com/oauth/authorize?oauth_token={oauth_token}\")"
   ]
  },
  {
   "cell_type": "code",
   "execution_count": 27,
   "metadata": {},
   "outputs": [],
   "source": [
    "oauth_token_from_request = \"AN3xKAAAAAABKTAVAAABdzFPAoE\"\n",
    "oauth_verifier = \"WcmvsLyO07D1LvTFFAkWgRBTJ0X9HOyG\""
   ]
  },
  {
   "cell_type": "code",
   "execution_count": 28,
   "metadata": {},
   "outputs": [],
   "source": [
    "resp, content = client.request(\"https://api.twitter.com/oauth/access_token\", \"POST\", body=parse.urlencode({\"oauth_consumer_key\": api_key, \"oauth_token\": oauth_token_from_request,\"oauth_verifier\": oauth_verifier}))"
   ]
  },
  {
   "cell_type": "code",
   "execution_count": 31,
   "metadata": {},
   "outputs": [
    {
     "data": {
      "text/plain": [
       "b'oauth_token=503088355-j0roY9LcmbssS9eNVEbp8WHVRCIvB1cmUrx8aNhS&oauth_token_secret=wYZbeAtQY8rlfvWyfZLQ0P4CT3jDqkPuAmHEekS9JORJv&user_id=503088355&screen_name=stephenbaione20'"
      ]
     },
     "execution_count": 31,
     "metadata": {},
     "output_type": "execute_result"
    }
   ],
   "source": [
    "content"
   ]
  },
  {
   "cell_type": "code",
   "execution_count": null,
   "metadata": {},
   "outputs": [],
   "source": []
  }
 ],
 "metadata": {
  "kernelspec": {
   "display_name": "venv",
   "language": "python",
   "name": "venv"
  },
  "language_info": {
   "codemirror_mode": {
    "name": "ipython",
    "version": 3
   },
   "file_extension": ".py",
   "mimetype": "text/x-python",
   "name": "python",
   "nbconvert_exporter": "python",
   "pygments_lexer": "ipython3",
   "version": "3.7.4"
  }
 },
 "nbformat": 4,
 "nbformat_minor": 4
}
